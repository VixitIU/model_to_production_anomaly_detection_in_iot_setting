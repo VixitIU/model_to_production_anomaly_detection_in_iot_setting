{
 "cells": [
  {
   "cell_type": "code",
   "execution_count": 10,
   "id": "3ff9bc3d-c9b6-4f69-848c-3d7da981143f",
   "metadata": {},
   "outputs": [
    {
     "name": "stdout",
     "output_type": "stream",
     "text": [
      "{'anomaly': 1, 'anomaly_score': 0.051218883736212084}\n"
     ]
    }
   ],
   "source": [
    "import requests\n",
    "\n",
    "url = \"http://Anomalysensorapi-env-1.eba-wku28njp.ap-southeast-2.elasticbeanstalk.com/predict\"\n",
    "\n",
    "sample = {\n",
    "    \"temperature\": 21.0,\n",
    "    \"humidity\": 81.0,\n",
    "    \"sound_volume\": 800.0\n",
    "}\n",
    "\n",
    "response = requests.post(url, json=sample)\n",
    "print(response.json())"
   ]
  }
 ],
 "metadata": {
  "kernelspec": {
   "display_name": "Python 3 (ipykernel)",
   "language": "python",
   "name": "python3"
  },
  "language_info": {
   "codemirror_mode": {
    "name": "ipython",
    "version": 3
   },
   "file_extension": ".py",
   "mimetype": "text/x-python",
   "name": "python",
   "nbconvert_exporter": "python",
   "pygments_lexer": "ipython3",
   "version": "3.12.9"
  }
 },
 "nbformat": 4,
 "nbformat_minor": 5
}
