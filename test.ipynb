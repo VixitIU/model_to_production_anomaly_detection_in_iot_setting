{
 "cells": [
  {
   "cell_type": "code",
   "execution_count": 3,
   "id": "3ff9bc3d-c9b6-4f69-848c-3d7da981143f",
   "metadata": {},
   "outputs": [
    {
     "name": "stdout",
     "output_type": "stream",
     "text": [
      "{'anomaly': 1, 'anomaly_score': 0.20520711752484}\n"
     ]
    }
   ],
   "source": [
    "import requests\n",
    "\n",
    "url = \"http://Anomalysensorapi-env-1.eba-wku28njp.ap-southeast-2.elasticbeanstalk.com/predict\"\n",
    "\n",
    "sample = {\n",
    "    \"temperature\": 21.0,\n",
    "    \"humidity\": 80.0,\n",
    "    \"sound_volume\": 799.0\n",
    "}\n",
    "\n",
    "response = requests.post(url, json=sample)\n",
    "print(response.json())"
   ]
  },
  {
   "cell_type": "code",
   "execution_count": 4,
   "id": "94e0a56b-66ee-4f72-90d8-59958aa9e46f",
   "metadata": {},
   "outputs": [
    {
     "name": "stdout",
     "output_type": "stream",
     "text": [
      "scikit-learn version: 1.6.1\n",
      "joblib version: 1.4.2\n",
      "python version: 3.12.9 | packaged by Anaconda, Inc. | (main, Feb  6 2025, 18:49:16) [MSC v.1929 64 bit (AMD64)]\n"
     ]
    }
   ],
   "source": [
    "import sklearn\n",
    "import joblib\n",
    "import sys\n",
    "\n",
    "print(\"scikit-learn version:\", sklearn.__version__)\n",
    "print(\"joblib version:\", joblib.__version__)\n",
    "print(\"python version:\", sys.version)\n"
   ]
  },
  {
   "cell_type": "code",
   "execution_count": null,
   "id": "e792f12e-c6f6-4a2c-a557-41bd2db88a3c",
   "metadata": {},
   "outputs": [],
   "source": []
  }
 ],
 "metadata": {
  "kernelspec": {
   "display_name": "Python 3 (ipykernel)",
   "language": "python",
   "name": "python3"
  },
  "language_info": {
   "codemirror_mode": {
    "name": "ipython",
    "version": 3
   },
   "file_extension": ".py",
   "mimetype": "text/x-python",
   "name": "python",
   "nbconvert_exporter": "python",
   "pygments_lexer": "ipython3",
   "version": "3.12.9"
  }
 },
 "nbformat": 4,
 "nbformat_minor": 5
}
